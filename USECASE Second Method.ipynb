{
 "cells": [
  {
   "cell_type": "markdown",
   "id": "c6881200",
   "metadata": {},
   "source": [
    "# 4. Create spark RDD from external source file\n"
   ]
  },
  {
   "cell_type": "markdown",
   "id": "52a67e77",
   "metadata": {},
   "source": [
    "### a. Identify any external data sources to create RDD (E.g. txt, csv, json etc.)"
   ]
  },
  {
   "cell_type": "code",
   "execution_count": 14,
   "id": "6516ddc5",
   "metadata": {},
   "outputs": [],
   "source": [
    "import findspark\n",
    "findspark.init()"
   ]
  },
  {
   "cell_type": "code",
   "execution_count": 15,
   "id": "217b7148",
   "metadata": {},
   "outputs": [],
   "source": [
    "import pyspark"
   ]
  },
  {
   "cell_type": "code",
   "execution_count": 16,
   "id": "de8b32d0",
   "metadata": {},
   "outputs": [],
   "source": [
    "from pyspark.sql import SparkSession"
   ]
  },
  {
   "cell_type": "code",
   "execution_count": 32,
   "id": "3ba61032",
   "metadata": {},
   "outputs": [],
   "source": [
    "spark= SparkSession.builder.appName('Emp').getOrCreate()"
   ]
  },
  {
   "cell_type": "code",
   "execution_count": 33,
   "id": "cfdbedbf",
   "metadata": {},
   "outputs": [
    {
     "data": {
      "text/plain": [
       "pyspark.rdd.RDD"
      ]
     },
     "execution_count": 33,
     "metadata": {},
     "output_type": "execute_result"
    }
   ],
   "source": [
    "MY = spark.read.csv(\"Employee.csv\",inferSchema = True,header = True).rdd\n",
    "type(MY)"
   ]
  },
  {
   "cell_type": "code",
   "execution_count": 26,
   "id": "b1aba448",
   "metadata": {},
   "outputs": [
    {
     "data": {
      "text/plain": [
       "[Row(_c0='First_Name', _c1='Last_Name', _c2='Gender', _c3='Salary'),\n",
       " Row(_c0='James', _c1='Smith', _c2='M', _c3='30'),\n",
       " Row(_c0='Anna', _c1='Rose', _c2='F', _c3='41'),\n",
       " Row(_c0='Robert', _c1='Williams', _c2='M', _c3='62'),\n",
       " Row(_c0='Suzan', _c1='Khan', _c2='F', _c3='31'),\n",
       " Row(_c0='John', _c1='Abram', _c2='M', _c3='38'),\n",
       " Row(_c0='Sunny', _c1='Nene', _c2='F', _c3='40')]"
      ]
     },
     "execution_count": 26,
     "metadata": {},
     "output_type": "execute_result"
    }
   ],
   "source": [
    "MY.collect()"
   ]
  },
  {
   "cell_type": "code",
   "execution_count": 27,
   "id": "2d27d8a0",
   "metadata": {},
   "outputs": [
    {
     "data": {
      "text/plain": [
       "7"
      ]
     },
     "execution_count": 27,
     "metadata": {},
     "output_type": "execute_result"
    }
   ],
   "source": [
    "MY.count()"
   ]
  },
  {
   "cell_type": "markdown",
   "id": "f7534275",
   "metadata": {},
   "source": [
    "### b. View RDD and limit only top 5 rows"
   ]
  },
  {
   "cell_type": "code",
   "execution_count": 29,
   "id": "bdd6e545",
   "metadata": {},
   "outputs": [
    {
     "data": {
      "text/plain": [
       "[Row(_c0='First_Name', _c1='Last_Name', _c2='Gender', _c3='Salary'),\n",
       " Row(_c0='James', _c1='Smith', _c2='M', _c3='30'),\n",
       " Row(_c0='Anna', _c1='Rose', _c2='F', _c3='41'),\n",
       " Row(_c0='Robert', _c1='Williams', _c2='M', _c3='62'),\n",
       " Row(_c0='Suzan', _c1='Khan', _c2='F', _c3='31')]"
      ]
     },
     "execution_count": 29,
     "metadata": {},
     "output_type": "execute_result"
    }
   ],
   "source": [
    "MY.take(5)"
   ]
  },
  {
   "cell_type": "code",
   "execution_count": 30,
   "id": "68ae7d10",
   "metadata": {},
   "outputs": [
    {
     "data": {
      "text/plain": [
       "7"
      ]
     },
     "execution_count": 30,
     "metadata": {},
     "output_type": "execute_result"
    }
   ],
   "source": [
    "MY.count()"
   ]
  },
  {
   "cell_type": "markdown",
   "id": "3437e9e7",
   "metadata": {},
   "source": [
    "### c. Convert RDD to Data Frame"
   ]
  },
  {
   "cell_type": "code",
   "execution_count": 34,
   "id": "8ef75760",
   "metadata": {},
   "outputs": [
    {
     "name": "stdout",
     "output_type": "stream",
     "text": [
      "+----------+---------+------+------+\n",
      "|First_Name|Last_Name|Gender|Salary|\n",
      "+----------+---------+------+------+\n",
      "|     James|    Smith|     M|    30|\n",
      "|      Anna|     Rose|     F|    41|\n",
      "|    Robert| Williams|     M|    62|\n",
      "|     Suzan|     Khan|     F|    31|\n",
      "|      John|    Abram|     M|    38|\n",
      "|     Sunny|     Nene|     F|    40|\n",
      "+----------+---------+------+------+\n",
      "\n"
     ]
    }
   ],
   "source": [
    "MY = MY.toDF()\n",
    "MY.show()"
   ]
  },
  {
   "cell_type": "code",
   "execution_count": 36,
   "id": "747e228c",
   "metadata": {},
   "outputs": [
    {
     "data": {
      "text/plain": [
       "pyspark.sql.dataframe.DataFrame"
      ]
     },
     "execution_count": 36,
     "metadata": {},
     "output_type": "execute_result"
    }
   ],
   "source": [
    "type(MY)"
   ]
  },
  {
   "cell_type": "markdown",
   "id": "28505867",
   "metadata": {},
   "source": [
    "### d. Show Data Frame top 5 rows"
   ]
  },
  {
   "cell_type": "code",
   "execution_count": 37,
   "id": "b1eb0f1e",
   "metadata": {},
   "outputs": [
    {
     "name": "stdout",
     "output_type": "stream",
     "text": [
      "+----------+---------+------+------+\n",
      "|First_Name|Last_Name|Gender|Salary|\n",
      "+----------+---------+------+------+\n",
      "|     James|    Smith|     M|    30|\n",
      "|      Anna|     Rose|     F|    41|\n",
      "|    Robert| Williams|     M|    62|\n",
      "|     Suzan|     Khan|     F|    31|\n",
      "|      John|    Abram|     M|    38|\n",
      "+----------+---------+------+------+\n",
      "only showing top 5 rows\n",
      "\n"
     ]
    }
   ],
   "source": [
    "MY.show(5)"
   ]
  },
  {
   "cell_type": "markdown",
   "id": "d9cffb19",
   "metadata": {},
   "source": [
    "### e. Continue with Text file from above point \n",
    "#### a  take new data source as txt file and read into RDD"
   ]
  },
  {
   "cell_type": "code",
   "execution_count": 38,
   "id": "3752d7f2",
   "metadata": {},
   "outputs": [],
   "source": [
    "from pyspark.sql import SparkSession\n",
    "spark = SparkSession.builder.appName(\"test\").getOrCreate()\n",
    "sc=spark.sparkContext"
   ]
  },
  {
   "cell_type": "code",
   "execution_count": 41,
   "id": "8f88aa76",
   "metadata": {},
   "outputs": [],
   "source": [
    "# Read Text File\n",
    "df = sc.textFile(\"test.txt\")"
   ]
  },
  {
   "cell_type": "code",
   "execution_count": 44,
   "id": "c06a01f4",
   "metadata": {},
   "outputs": [
    {
     "data": {
      "text/plain": [
       "['First line: This is a test file',\n",
       " 'This is second line',\n",
       " 'third line',\n",
       " 'and subsiquent lines..',\n",
       " 'and more..']"
      ]
     },
     "execution_count": 44,
     "metadata": {},
     "output_type": "execute_result"
    }
   ],
   "source": [
    "df.take(5)"
   ]
  },
  {
   "cell_type": "markdown",
   "id": "4a533169",
   "metadata": {},
   "source": [
    "### f. Count repetitive word from text file."
   ]
  },
  {
   "cell_type": "code",
   "execution_count": 45,
   "id": "48332a0d",
   "metadata": {},
   "outputs": [],
   "source": [
    "counts = df.flatMap(lambda line: line.split(\" \")).map(lambda word: (word, 1)).reduceByKey(lambda x, y: x + y)"
   ]
  },
  {
   "cell_type": "code",
   "execution_count": 46,
   "id": "4242cf54",
   "metadata": {},
   "outputs": [
    {
     "name": "stdout",
     "output_type": "stream",
     "text": [
      "is: 2\n",
      "test: 1\n",
      "line: 2\n",
      "third: 1\n",
      "subsiquent: 1\n",
      "First: 1\n",
      "line:: 1\n",
      "This: 2\n",
      "a: 1\n",
      "file: 1\n",
      "second: 1\n",
      "and: 2\n",
      "lines..: 1\n",
      "more..: 1\n"
     ]
    }
   ],
   "source": [
    "# Printing each word with its respective count\n",
    "output = counts.collect()\n",
    "for (word, count) in output:\n",
    "    print(\"%s: %i\" % (word, count))"
   ]
  },
  {
   "cell_type": "markdown",
   "id": "29e96977",
   "metadata": {},
   "source": [
    "### g. Show lines in txt file which has specific word in it."
   ]
  },
  {
   "cell_type": "code",
   "execution_count": 47,
   "id": "23f9a1ec",
   "metadata": {},
   "outputs": [
    {
     "name": "stdout",
     "output_type": "stream",
     "text": [
      "enter the word: line\n",
      "First line: This is a test file\n",
      "\n",
      "This is second line\n",
      "\n",
      "third line\n",
      "\n",
      "and subsiquent lines..\n",
      "\n"
     ]
    }
   ],
   "source": [
    "user_input = input(\"enter the word: \")\n",
    "file = open(\"test.txt\",\"r\")\n",
    "\n",
    "for line in file:\n",
    "    if user_input in line:\n",
    "        print(line)"
   ]
  },
  {
   "cell_type": "markdown",
   "id": "0953017c",
   "metadata": {},
   "source": [
    "### h. Use filter and show result."
   ]
  },
  {
   "cell_type": "markdown",
   "id": "466ec8db",
   "metadata": {},
   "source": [
    "filter() function is used to filter the rows from RDD/DataFrame based on the given condition "
   ]
  },
  {
   "cell_type": "code",
   "execution_count": null,
   "id": "e4794609",
   "metadata": {},
   "outputs": [],
   "source": [
    "load_data=sc.textFile(\"E://long_sample.txt\").filter(lambda x : \"title\")"
   ]
  },
  {
   "cell_type": "code",
   "execution_count": 49,
   "id": "13e08867",
   "metadata": {},
   "outputs": [
    {
     "data": {
      "text/plain": [
       "[78, 2, 4, 6]"
      ]
     },
     "execution_count": 49,
     "metadata": {},
     "output_type": "execute_result"
    }
   ],
   "source": [
    "rdd_1= sc.parallelize([78, 2, 3, 4, 6])\n",
    "rdd_1.filter(lambda x: x % 2 == 0).collect()"
   ]
  },
  {
   "cell_type": "code",
   "execution_count": null,
   "id": "bb50ee97",
   "metadata": {},
   "outputs": [],
   "source": []
  },
  {
   "cell_type": "code",
   "execution_count": null,
   "id": "e4626a5b",
   "metadata": {},
   "outputs": [],
   "source": []
  },
  {
   "cell_type": "code",
   "execution_count": null,
   "id": "eda9d9c4",
   "metadata": {},
   "outputs": [],
   "source": []
  },
  {
   "cell_type": "code",
   "execution_count": null,
   "id": "06b5cc97",
   "metadata": {},
   "outputs": [],
   "source": []
  }
 ],
 "metadata": {
  "kernelspec": {
   "display_name": "Python 3 (ipykernel)",
   "language": "python",
   "name": "python3"
  },
  "language_info": {
   "codemirror_mode": {
    "name": "ipython",
    "version": 3
   },
   "file_extension": ".py",
   "mimetype": "text/x-python",
   "name": "python",
   "nbconvert_exporter": "python",
   "pygments_lexer": "ipython3",
   "version": "3.9.7"
  }
 },
 "nbformat": 4,
 "nbformat_minor": 5
}
